{
 "cells": [
  {
   "cell_type": "code",
   "execution_count": 26,
   "metadata": {
    "colab": {},
    "colab_type": "code",
    "id": "K7RIUPcNA7wB"
   },
   "outputs": [],
   "source": [
    "#import Libraries\n",
    "import requests\n",
    "from bs4 import BeautifulSoup\n",
    "import pandas as pd"
   ]
  },
  {
   "cell_type": "code",
   "execution_count": 1,
   "metadata": {
    "colab": {
     "base_uri": "https://localhost:8080/",
     "height": 34
    },
    "colab_type": "code",
    "id": "PrgThrpaBHZ_",
    "outputId": "293fbb9e-55fa-496d-fb2a-9025e59270d2"
   },
   "outputs": [],
   "source": [
    "#Product Name\n",
    "item = input()"
   ]
  },
  {
   "cell_type": "code",
   "execution_count": 33,
   "metadata": {
    "colab": {},
    "colab_type": "code",
    "id": "lTg1aB5BRFsl"
   },
   "outputs": [],
   "source": [
    "#Request\n",
    "response = requests.get('https://www.flipkart.com/search?q=' + str(item))"
   ]
  },
  {
   "cell_type": "code",
   "execution_count": 2,
   "metadata": {
    "colab": {
     "base_uri": "https://localhost:8080/",
     "height": 34
    },
    "colab_type": "code",
    "id": "LSV4EViJBe0z",
    "outputId": "1715c22e-560c-449e-c683-61e5c09f0eb6"
   },
   "outputs": [],
   "source": [
    "response"
   ]
  },
  {
   "cell_type": "code",
   "execution_count": 35,
   "metadata": {
    "colab": {},
    "colab_type": "code",
    "id": "0tJ_PmyLBgiC"
   },
   "outputs": [],
   "source": [
    "soup = BeautifulSoup(response.text , 'html.parser')\n",
    "products = soup.find_all(class_='_3wU53n')\n",
    "productName = [i.get_text() for i in products]"
   ]
  },
  {
   "cell_type": "code",
   "execution_count": 3,
   "metadata": {
    "colab": {
     "base_uri": "https://localhost:8080/",
     "height": 425
    },
    "colab_type": "code",
    "id": "rizTNO59JKZB",
    "outputId": "b6cfce57-971d-48a1-eed7-252d5cf3a2b6"
   },
   "outputs": [],
   "source": [
    "productName"
   ]
  },
  {
   "cell_type": "code",
   "execution_count": 4,
   "metadata": {
    "colab": {
     "base_uri": "https://localhost:8080/",
     "height": 34
    },
    "colab_type": "code",
    "id": "wcckmsi9B0rt",
    "outputId": "c0f61c13-48fe-4032-cc21-1703015cec6a"
   },
   "outputs": [],
   "source": [
    "#len(productName)"
   ]
  },
  {
   "cell_type": "code",
   "execution_count": 38,
   "metadata": {
    "colab": {},
    "colab_type": "code",
    "id": "B3OfLMgtDFRR"
   },
   "outputs": [],
   "source": [
    "price = soup.find_all(class_='_1vC4OE _2rQ-NK')\n",
    "productPrice = [i.get_text() for i in price]"
   ]
  },
  {
   "cell_type": "code",
   "execution_count": 5,
   "metadata": {
    "colab": {
     "base_uri": "https://localhost:8080/",
     "height": 425
    },
    "colab_type": "code",
    "id": "WsWuGrp6JUNV",
    "outputId": "3f25cdf5-eb79-4e39-de14-ec5a3c6aebe8"
   },
   "outputs": [],
   "source": [
    "productPrice\n"
   ]
  },
  {
   "cell_type": "code",
   "execution_count": 6,
   "metadata": {
    "colab": {
     "base_uri": "https://localhost:8080/",
     "height": 34
    },
    "colab_type": "code",
    "id": "jf_Uy8BRI2tG",
    "outputId": "703d3b40-f61d-412b-f8d1-fb9f9a1f7e93"
   },
   "outputs": [],
   "source": [
    "len(productPrice)"
   ]
  },
  {
   "cell_type": "code",
   "execution_count": 41,
   "metadata": {
    "colab": {},
    "colab_type": "code",
    "id": "MYMjXHKvI4sx"
   },
   "outputs": [],
   "source": [
    "links = soup.find_all('a', {\"class\": \"_31qSD5\"})\n",
    "productLinks = ['https://www.flipkart.com/search?q=' + i.get('href') for i in links]"
   ]
  },
  {
   "cell_type": "code",
   "execution_count": 7,
   "metadata": {
    "colab": {
     "base_uri": "https://localhost:8080/",
     "height": 445
    },
    "colab_type": "code",
    "id": "SMFJo5lRKMev",
    "outputId": "23c34216-847b-41ea-8024-7bcd09393b3b"
   },
   "outputs": [],
   "source": [
    "productLinks"
   ]
  },
  {
   "cell_type": "code",
   "execution_count": 8,
   "metadata": {
    "colab": {
     "base_uri": "https://localhost:8080/",
     "height": 34
    },
    "colab_type": "code",
    "id": "f8xIU0nBKNXq",
    "outputId": "7be2c270-2ff7-428e-c7a5-eae31204dd8c"
   },
   "outputs": [],
   "source": [
    "len(productLinks)"
   ]
  },
  {
   "cell_type": "code",
   "execution_count": 45,
   "metadata": {
    "colab": {},
    "colab_type": "code",
    "id": "nvm710UxKPC6"
   },
   "outputs": [],
   "source": [
    "#creating dictanory\n",
    "finalDetail = {\n",
    "    'Name' : productName,\n",
    "    'Price': productPrice,\n",
    "    'Link' : productLinks\n",
    "    \n",
    "}"
   ]
  },
  {
   "cell_type": "code",
   "execution_count": 46,
   "metadata": {},
   "outputs": [],
   "source": [
    "#Creating DataFrame\n",
    "frame = pd.DataFrame(finalDetail)"
   ]
  },
  {
   "cell_type": "code",
   "execution_count": 9,
   "metadata": {
    "scrolled": true
   },
   "outputs": [],
   "source": [
    "frame"
   ]
  },
  {
   "cell_type": "code",
   "execution_count": null,
   "metadata": {},
   "outputs": [],
   "source": []
  }
 ],
 "metadata": {
  "colab": {
   "collapsed_sections": [],
   "name": "Untitled2.ipynb",
   "provenance": []
  },
  "kernelspec": {
   "display_name": "Python 3",
   "language": "python",
   "name": "python3"
  },
  "language_info": {
   "codemirror_mode": {
    "name": "ipython",
    "version": 3
   },
   "file_extension": ".py",
   "mimetype": "text/x-python",
   "name": "python",
   "nbconvert_exporter": "python",
   "pygments_lexer": "ipython3",
   "version": "3.7.8"
  }
 },
 "nbformat": 4,
 "nbformat_minor": 1
}
